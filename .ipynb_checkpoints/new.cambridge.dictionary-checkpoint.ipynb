{
 "cells": [
  {
   "cell_type": "code",
   "execution_count": 11,
   "metadata": {},
   "outputs": [],
   "source": [
    "from bs4 import BeautifulSoup\n",
    "from collections import defaultdict\n",
    "import requests"
   ]
  },
  {
   "cell_type": "code",
   "execution_count": 10,
   "metadata": {},
   "outputs": [],
   "source": [
    "def extract(soup):\n",
    "    for entry in soup.select('.entry'):\n",
    "        for big_block in entry.select('.entry-body__el.clrd.js-share-holder'):\n",
    "            if big_block.select_one('.pos-header .headword'):\n",
    "                head_word = big_block.select_one('.pos-header .headword').text\n",
    "            \n",
    "            pos = big_block.select_one('.pos-header .pos').text\n",
    "            print('---', head_word, pos, '---')\n",
    "\n",
    "\n",
    "            for block in big_block.select('.sense-block'):\n",
    "                guideword = ''\n",
    "                extra_sents = []\n",
    "                big_sense = defaultdict(list)\n",
    "                ch_def = ''\n",
    "                gcs = ''\n",
    "                en_def = ''\n",
    "\n",
    "\n",
    "                if block.select_one('.guideword'): # guide word\n",
    "                    guideword = block.select_one('.guideword').text.strip()\n",
    "\n",
    "                if block.select('.extraexamps .eg'): # extra sents of a block\n",
    "                    extra_sents = [extra_sent.text for extra_sent in block.select('.extraexamps .eg')] \n",
    "\n",
    "\n",
    "                for x in block.select('.sense-body .def-block'):\n",
    "                    temp = {}\n",
    "\n",
    "                    if x.select_one('.def-info span.epp-xref'):\n",
    "                        print(x.select_one('.def-info span.epp-xref').text.strip()) # 等級\n",
    "                        level = x.select_one('.def-info span.epp-xref').text.strip()\n",
    "                    else:\n",
    "                        print('NONE')\n",
    "                        level = 'none'\n",
    "\n",
    "                    if x.select_one('.def-info .gcs'):\n",
    "    #                     print(x.select_one('.def-info .gcs').text.strip())\n",
    "                        gcs = x.select_one('.def-info .gcs').text.strip()\n",
    "\n",
    "                    if x.select_one('.def'):\n",
    "                        en_def = x.select_one('.def').text.strip()\n",
    "    #                 print(x.select_one('.def').text.strip())\n",
    "\n",
    "                    if x.select_one('.trans').text:\n",
    "                        ch_def = x.select_one('.trans').text.strip()\n",
    "\n",
    "                    examples = []\n",
    "                    for example in x.select('.examp.emphasized'): #例句\n",
    "        #                 print(example.select_one('.eg').text)\n",
    "        #                 print(example.select_one('.trans').text)\n",
    "                        if example.select_one('.eg'):\n",
    "                            eg_sent = example.select_one('.eg').text.strip()\n",
    "                            examples.append(eg_sent)\n",
    "\n",
    "                        if example.select_one('.trans'):\n",
    "                            ch_sent = example.select_one('.trans').text.strip()\n",
    "                            examples.append(ch_sent)\n",
    "\n",
    "\n",
    "\n",
    "\n",
    "                    small_info = {'en_def':en_def, 'ch_def':ch_def, 'level':level, 'examples': examples, 'gcs': gcs}\n",
    "                    big_sense['sense'].append(small_info)\n",
    "\n",
    "                big_sense['extra_sents'] = extra_sents\n",
    "                big_sense['guideword'] = guideword\n",
    "\n",
    "\n",
    "                cam_dict[head_word][pos].append(big_sense)"
   ]
  },
  {
   "cell_type": "code",
   "execution_count": 8,
   "metadata": {},
   "outputs": [],
   "source": [
    "def start(url,head):\n",
    "\n",
    "    headers = { 'User-Agent': 'Mozilla/5.0 (Windows NT 6.0; WOW64; rv:24.0) Gecko/20100101 Firefox/24.0' }\n",
    "    \n",
    "    source_code = requests.get(url , headers=headers).content\n",
    "    soup = BeautifulSoup(source_code, 'html.parser')\n",
    "    extract(soup)\n"
   ]
  },
  {
   "cell_type": "code",
   "execution_count": 28,
   "metadata": {},
   "outputs": [
    {
     "name": "stdout",
     "output_type": "stream",
     "text": [
      "https://dictionary.cambridge.org/dictionary/english-chinese-traditional/a\n",
      "--- a determiner ---\n",
      "A1\n",
      "A1\n",
      "A1\n",
      "NONE\n",
      "A2\n",
      "A2\n",
      "A2\n",
      "A2\n",
      "NONE\n",
      "NONE\n",
      "NONE\n",
      "A1\n",
      "A2\n",
      "A2\n",
      "A2\n",
      "--- A noun ---\n",
      "NONE\n",
      "https://dictionary.cambridge.org/dictionary/english-chinese-traditional/a-e\n",
      "https://dictionary.cambridge.org/dictionary/english-chinese-traditional/a-heavy-cross-to-bear\n",
      "https://dictionary.cambridge.org/dictionary/english-chinese-traditional/a-quick-brisk-trot-through-sth\n",
      "https://dictionary.cambridge.org/dictionary/english-chinese-traditional/a-whole-heap-of-sth\n",
      "https://dictionary.cambridge.org/dictionary/english-chinese-traditional/a-bad-workman-blames-his-tools\n",
      "https://dictionary.cambridge.org/dictionary/english-chinese-traditional/a-banner-year-season-month-week\n",
      "https://dictionary.cambridge.org/dictionary/english-chinese-traditional/a-baptism-of-by-fire\n",
      "https://dictionary.cambridge.org/dictionary/english-chinese-traditional/a-big-ask\n",
      "https://dictionary.cambridge.org/dictionary/english-chinese-traditional/a-big-great-girl-s-blouse\n"
     ]
    }
   ],
   "source": [
    "if __name__ == '__main__':\n",
    "    cam_dict = defaultdict(lambda:  defaultdict(lambda: []))    \n",
    "    urls = eval(open('extendURLs.txt').read())\n",
    "    for r in urls:\n",
    "        print(r)\n",
    "        w = r.split('/')[-1]\n",
    "        if len(w.split('-')) < 2:\n",
    "            start(r,r.split('/')[-1])\n",
    "            \n",
    "    import json\n",
    "    with open('cambridge.word.json', 'w') as outfile:\n",
    "        json.dump(cam_dict, outfile)"
   ]
  },
  {
   "cell_type": "code",
   "execution_count": 6,
   "metadata": {},
   "outputs": [],
   "source": []
  },
  {
   "cell_type": "code",
   "execution_count": 15,
   "metadata": {},
   "outputs": [],
   "source": []
  },
  {
   "cell_type": "code",
   "execution_count": null,
   "metadata": {},
   "outputs": [],
   "source": []
  }
 ],
 "metadata": {
  "kernelspec": {
   "display_name": "Python 3",
   "language": "python",
   "name": "python3"
  },
  "language_info": {
   "codemirror_mode": {
    "name": "ipython",
    "version": 3
   },
   "file_extension": ".py",
   "mimetype": "text/x-python",
   "name": "python",
   "nbconvert_exporter": "python",
   "pygments_lexer": "ipython3",
   "version": "3.7.1"
  }
 },
 "nbformat": 4,
 "nbformat_minor": 2
}
